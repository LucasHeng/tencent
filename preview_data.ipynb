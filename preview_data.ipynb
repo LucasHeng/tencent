{
 "cells": [
  {
   "cell_type": "code",
   "execution_count": 1,
   "id": "2d61d4b8",
   "metadata": {},
   "outputs": [],
   "source": [
    "import json\n",
    "import pickle\n",
    "import struct\n",
    "from pathlib import Path\n",
    "\n",
    "import numpy as np\n",
    "import torch\n",
    "from tqdm import tqdm"
   ]
  },
  {
   "cell_type": "code",
   "execution_count": 6,
   "id": "8f610c98",
   "metadata": {},
   "outputs": [],
   "source": [
    "data_dir = Path('/home/lucasheng/Tencent/data/TencentGR_1k')\n",
    "with open(data_dir / 'indexer.pkl', 'rb') as ff:\n",
    "    indexer = pickle.load(ff)"
   ]
  },
  {
   "cell_type": "code",
   "execution_count": 10,
   "id": "fcb0dc41",
   "metadata": {},
   "outputs": [
    {
     "data": {
      "text/plain": [
       "[(20002650278, 1),\n",
       " (20002695270, 2),\n",
       " (20005426854, 3),\n",
       " (20004710150, 4),\n",
       " (20004532262, 5),\n",
       " (20001868390, 6),\n",
       " (20003001030, 7),\n",
       " (20004865798, 8),\n",
       " (20005081734, 9),\n",
       " (20002194022, 10)]"
      ]
     },
     "execution_count": 10,
     "metadata": {},
     "output_type": "execute_result"
    }
   ],
   "source": [
    "list(indexer['i'].items())[:10]"
   ]
  },
  {
   "cell_type": "code",
   "execution_count": 11,
   "id": "a565294c",
   "metadata": {},
   "outputs": [
    {
     "data": {
      "text/plain": [
       "[('user_01060923', 1),\n",
       " ('user_00300038', 2),\n",
       " ('user_00122945', 3),\n",
       " ('user_00311455', 4),\n",
       " ('user_00427257', 5),\n",
       " ('user_00302056', 6),\n",
       " ('user_00768541', 7),\n",
       " ('user_01021061', 8),\n",
       " ('user_01070082', 9),\n",
       " ('user_01143180', 10)]"
      ]
     },
     "execution_count": 11,
     "metadata": {},
     "output_type": "execute_result"
    }
   ],
   "source": [
    "list(indexer['u'].items())[:10]"
   ]
  },
  {
   "cell_type": "code",
   "execution_count": 14,
   "id": "1e6f866f",
   "metadata": {},
   "outputs": [
    {
     "data": {
      "text/plain": [
       "['122',\n",
       " '102',\n",
       " '121',\n",
       " '118',\n",
       " '111',\n",
       " '119',\n",
       " '103',\n",
       " '120',\n",
       " '117',\n",
       " '115',\n",
       " '107',\n",
       " '114',\n",
       " '101',\n",
       " '108',\n",
       " '112',\n",
       " '109',\n",
       " '110',\n",
       " '116',\n",
       " '106',\n",
       " '105',\n",
       " '104',\n",
       " '100']"
      ]
     },
     "execution_count": 14,
     "metadata": {},
     "output_type": "execute_result"
    }
   ],
   "source": [
    "list(indexer['f'].keys())"
   ]
  },
  {
   "cell_type": "code",
   "execution_count": 15,
   "id": "47211f7f",
   "metadata": {},
   "outputs": [],
   "source": [
    "data_file = open(data_dir / \"seq.jsonl\", 'rb')\n",
    "with open(Path(data_dir, 'seq_offsets.pkl'), 'rb') as f:\n",
    "    seq_offsets = pickle.load(f)\n"
   ]
  },
  {
   "cell_type": "code",
   "execution_count": null,
   "id": "ed4ee91d",
   "metadata": {},
   "outputs": [],
   "source": [
    "data_file.seek(self.seq_offsets[uid])\n",
    "line = data_file.readline()\n",
    "data = json.loads(line)"
   ]
  }
 ],
 "metadata": {
  "kernelspec": {
   "display_name": "competition",
   "language": "python",
   "name": "python3"
  },
  "language_info": {
   "codemirror_mode": {
    "name": "ipython",
    "version": 3
   },
   "file_extension": ".py",
   "mimetype": "text/x-python",
   "name": "python",
   "nbconvert_exporter": "python",
   "pygments_lexer": "ipython3",
   "version": "3.12.11"
  }
 },
 "nbformat": 4,
 "nbformat_minor": 5
}
