{
 "cells": [
  {
   "cell_type": "code",
   "execution_count": 4,
   "id": "2d61d4b8",
   "metadata": {},
   "outputs": [],
   "source": [
    "import json\n",
    "import pickle\n",
    "import struct\n",
    "from pathlib import Path\n",
    "\n",
    "import numpy as np\n",
    "import torch\n",
    "from tqdm import tqdm"
   ]
  },
  {
   "cell_type": "code",
   "execution_count": 5,
   "id": "8f610c98",
   "metadata": {},
   "outputs": [],
   "source": [
    "data_dir = Path('/home/lucasheng/Tencent/data/TencentGR_1k')\n",
    "with open(data_dir / 'indexer.pkl', 'rb') as ff:\n",
    "    indexer = pickle.load(ff)"
   ]
  },
  {
   "cell_type": "code",
   "execution_count": null,
   "id": "b8eefb15",
   "metadata": {},
   "outputs": [],
   "source": []
  },
  {
   "cell_type": "code",
   "execution_count": 6,
   "id": "fcb0dc41",
   "metadata": {},
   "outputs": [
    {
     "data": {
      "text/plain": [
       "[(20002650278, 1),\n",
       " (20002695270, 2),\n",
       " (20005426854, 3),\n",
       " (20004710150, 4),\n",
       " (20004532262, 5),\n",
       " (20001868390, 6),\n",
       " (20003001030, 7),\n",
       " (20004865798, 8),\n",
       " (20005081734, 9),\n",
       " (20002194022, 10)]"
      ]
     },
     "execution_count": 6,
     "metadata": {},
     "output_type": "execute_result"
    }
   ],
   "source": [
    "list(indexer['i'].items())[:10]"
   ]
  },
  {
   "cell_type": "code",
   "execution_count": 7,
   "id": "8a40e01e",
   "metadata": {},
   "outputs": [
    {
     "data": {
      "text/plain": [
       "20001088917"
      ]
     },
     "execution_count": 7,
     "metadata": {},
     "output_type": "execute_result"
    }
   ],
   "source": [
    "indexer_i_rev = {v: k for k, v in indexer['i'].items()}\n",
    "indexer_i_rev[28515]"
   ]
  },
  {
   "cell_type": "code",
   "execution_count": 11,
   "id": "a565294c",
   "metadata": {},
   "outputs": [
    {
     "data": {
      "text/plain": [
       "[('user_01060923', 1),\n",
       " ('user_00300038', 2),\n",
       " ('user_00122945', 3),\n",
       " ('user_00311455', 4),\n",
       " ('user_00427257', 5),\n",
       " ('user_00302056', 6),\n",
       " ('user_00768541', 7),\n",
       " ('user_01021061', 8),\n",
       " ('user_01070082', 9),\n",
       " ('user_01143180', 10)]"
      ]
     },
     "execution_count": 11,
     "metadata": {},
     "output_type": "execute_result"
    }
   ],
   "source": [
    "list(indexer['u'].items())[:10]"
   ]
  },
  {
   "cell_type": "code",
   "execution_count": 14,
   "id": "1e6f866f",
   "metadata": {},
   "outputs": [
    {
     "data": {
      "text/plain": [
       "['122',\n",
       " '102',\n",
       " '121',\n",
       " '118',\n",
       " '111',\n",
       " '119',\n",
       " '103',\n",
       " '120',\n",
       " '117',\n",
       " '115',\n",
       " '107',\n",
       " '114',\n",
       " '101',\n",
       " '108',\n",
       " '112',\n",
       " '109',\n",
       " '110',\n",
       " '116',\n",
       " '106',\n",
       " '105',\n",
       " '104',\n",
       " '100']"
      ]
     },
     "execution_count": 14,
     "metadata": {},
     "output_type": "execute_result"
    }
   ],
   "source": [
    "list(indexer['f'].keys())"
   ]
  },
  {
   "cell_type": "code",
   "execution_count": 15,
   "id": "47211f7f",
   "metadata": {},
   "outputs": [],
   "source": [
    "data_file = open(data_dir / \"seq.jsonl\", 'rb')\n",
    "with open(Path(data_dir, 'seq_offsets.pkl'), 'rb') as f:\n",
    "    seq_offsets = pickle.load(f)\n"
   ]
  },
  {
   "cell_type": "code",
   "execution_count": null,
   "id": "ed4ee91d",
   "metadata": {},
   "outputs": [],
   "source": [
    "data_file.seek(self.seq_offsets[uid])\n",
    "line = data_file.readline()\n",
    "data = json.loads(line)"
   ]
  },
  {
   "cell_type": "code",
   "execution_count": 8,
   "id": "f43002a4",
   "metadata": {},
   "outputs": [
    {
     "name": "stdout",
     "output_type": "stream",
     "text": [
      "emb矩阵:\n",
      " [[0.1 0.2]\n",
      " [0.3 0.4]\n",
      " [0.5 0.6]]\n",
      "\n",
      "mask矩阵:\n",
      " [[0 0 1 0 0]\n",
      " [1 0 0 0 0]\n",
      " [0 0 0 1 0]]\n",
      "\n",
      "三维结果矩阵形状: (3, 5, 2)\n",
      "三维结果矩阵:\n",
      " [[[0.  0. ]\n",
      "  [0.  0. ]\n",
      "  [0.1 0.2]\n",
      "  [0.  0. ]\n",
      "  [0.  0. ]]\n",
      "\n",
      " [[0.3 0.4]\n",
      "  [0.  0. ]\n",
      "  [0.  0. ]\n",
      "  [0.  0. ]\n",
      "  [0.  0. ]]\n",
      "\n",
      " [[0.  0. ]\n",
      "  [0.  0. ]\n",
      "  [0.  0. ]\n",
      "  [0.5 0.6]\n",
      "  [0.  0. ]]]\n"
     ]
    }
   ],
   "source": [
    "import numpy as np\n",
    "\n",
    "def embed_emb_to_3d(emb, mask):\n",
    "    \"\"\"\n",
    "    将[N,D]的emb矩阵按[N,M]的mask嵌入到[N,M,D]的三维矩阵\n",
    "    \n",
    "    参数:\n",
    "        emb: 嵌入矩阵，形状[N, D]\n",
    "        mask: 掩码矩阵，形状[N, M]，值为1表示需要填充的位置\n",
    "    返回:\n",
    "        三维矩阵，形状[N, M, D]，mask为1的位置填充emb对应行，其余为0\n",
    "    \"\"\"\n",
    "    N, D = emb.shape\n",
    "    M = mask.shape[1]\n",
    "    \n",
    "    # 初始化[N,M,D]的全零矩阵\n",
    "    result = np.zeros((N, M, D), dtype=emb.dtype)\n",
    "    \n",
    "    # 找到mask中所有值为1的位置（返回两个一维数组：行索引和列索引）\n",
    "    rows, cols = np.where(mask == 1)\n",
    "    \n",
    "    # 填充emb值：result[rows, cols, :] = emb[rows, :]\n",
    "    # 利用广播机制，emb[rows, :] 形状为[K,D]，与result的[K,1,D]对齐\n",
    "    result[rows, cols] = emb[rows]\n",
    "    \n",
    "    return result\n",
    "\n",
    "# 示例\n",
    "if __name__ == \"__main__\":\n",
    "    # 输入：emb[N,D]，mask[N,M]\n",
    "    N, M, D = 3, 5, 2  # 3行，5列，每个嵌入向量长度2\n",
    "    emb = np.array([\n",
    "        [0.1, 0.2],   # 第0行嵌入\n",
    "        [0.3, 0.4],   # 第1行嵌入\n",
    "        [0.5, 0.6]    # 第2行嵌入\n",
    "    ])\n",
    "    mask = np.zeros((N, M), dtype=int)\n",
    "    mask[0, 2] = 1  # 第0行第2列需要填充\n",
    "    mask[1, 0] = 1  # 第1行第0列需要填充\n",
    "    mask[2, 3] = 1  # 第2行第3列需要填充\n",
    "    \n",
    "    # 嵌入操作\n",
    "    result = embed_emb_to_3d(emb, mask)\n",
    "    \n",
    "    print(\"emb矩阵:\\n\", emb)\n",
    "    print(\"\\nmask矩阵:\\n\", mask)\n",
    "    print(\"\\n三维结果矩阵形状:\", result.shape)\n",
    "    print(\"三维结果矩阵:\\n\", result)"
   ]
  },
  {
   "cell_type": "code",
   "execution_count": null,
   "id": "1ec46a5e",
   "metadata": {},
   "outputs": [],
   "source": []
  }
 ],
 "metadata": {
  "kernelspec": {
   "display_name": "competition",
   "language": "python",
   "name": "python3"
  },
  "language_info": {
   "codemirror_mode": {
    "name": "ipython",
    "version": 3
   },
   "file_extension": ".py",
   "mimetype": "text/x-python",
   "name": "python",
   "nbconvert_exporter": "python",
   "pygments_lexer": "ipython3",
   "version": "3.12.11"
  }
 },
 "nbformat": 4,
 "nbformat_minor": 5
}
